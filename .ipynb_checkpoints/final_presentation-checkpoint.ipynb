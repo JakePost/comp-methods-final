{
 "cells": [
  {
   "cell_type": "markdown",
   "metadata": {
    "pycharm": {
     "name": "#%% md\n"
    },
    "slideshow": {
     "slide_type": "slide"
    }
   },
   "source": [
    "## Final Presentation\n",
    "### PHYS 4100 & 4150\n",
    "### New York City College of Technology\n",
    "#### Jake Postiglione\n",
    "#### 05-23-2022"
   ]
  },
  {
   "cell_type": "markdown",
   "metadata": {
    "pycharm": {
     "name": "#%% md\n"
    },
    "slideshow": {
     "slide_type": "slide"
    }
   },
   "source": [
    "For the final project, I wanted to attempt to create an n-body simulation with the goal of simulation an moon-earth-sun system.\n"
   ]
  },
  {
   "cell_type": "markdown",
   "metadata": {
    "slideshow": {
     "slide_type": "-"
    }
   },
   "source": [
    "![title](final_presentation/earth-moon-sun.jpg)"
   ]
  },
  {
   "cell_type": "markdown",
   "metadata": {
    "slideshow": {
     "slide_type": "slide"
    }
   },
   "source": [
    "To accomplish this, I made use of Verlet Integration."
   ]
  },
  {
   "cell_type": "markdown",
   "metadata": {
    "slideshow": {
     "slide_type": "fragment"
    }
   },
   "source": [
    "$$\\vec{x}_1 = \\vec{x}_0 + \\vec{v}_0 \\Delta t + \\frac{1}{2} \\vec{A}(\\vec{x}_0) \\Delta t^2$$"
   ]
  },
  {
   "cell_type": "markdown",
   "metadata": {
    "slideshow": {
     "slide_type": "fragment"
    }
   },
   "source": [
    "This is the most basic form of Verlet Integration and applies to any second-order differention equation of the form $\\ddot{\\vec{x}}(t) = \\vec{A}(\\vec{x}(t))$"
   ]
  },
  {
   "cell_type": "markdown",
   "metadata": {
    "slideshow": {
     "slide_type": "subslide"
    }
   },
   "source": [
    "In order to use this method for a n-body simulation, we will need to break down the first equation into a few steps that we algorithmically run through code."
   ]
  },
  {
   "cell_type": "markdown",
   "metadata": {
    "slideshow": {
     "slide_type": "-"
    }
   },
   "source": [
    "![title](final_presentation/computer-brain.jpg)"
   ]
  },
  {
   "cell_type": "markdown",
   "metadata": {
    "slideshow": {
     "slide_type": "slide"
    }
   },
   "source": [
    "Lets start by identifying the key aspects of what its means to be a \"body\" in our simulation."
   ]
  },
  {
   "cell_type": "markdown",
   "metadata": {
    "slideshow": {
     "slide_type": "fragment"
    }
   },
   "source": [
    "Each body has a position, velocity, and acceleration due to the n-bodies it is interacting with."
   ]
  },
  {
   "cell_type": "markdown",
   "metadata": {
    "slideshow": {
     "slide_type": "fragment"
    }
   },
   "source": [
    "This can be represented by $\\vec{x}$ for position, $\\vec{v}$ for velocity, and $\\vec{a}$ for acceleration."
   ]
  },
  {
   "cell_type": "markdown",
   "metadata": {
    "slideshow": {
     "slide_type": "subslide"
    }
   },
   "source": [
    "To start, we want to use the current velocity and acceleration to calculate a half-step value for the velocity.\n",
    "\n",
    "$$\\vec{v}(t + \\Delta t \\frac{1}{2}) = \\vec{v}(t) + \\vec{a}(t) \\Delta t \\frac{1}{2}$$"
   ]
  },
  {
   "cell_type": "markdown",
   "metadata": {
    "slideshow": {
     "slide_type": "fragment"
    }
   },
   "source": [
    "Next, we can calculate the new position based on the half-step velocity we just calculated.\n",
    "\n",
    "$$\\vec{x}(t + \\Delta t) = \\vec{x}(t) + \\vec{v}(t + \\Delta t \\frac{1}{2}) \\Delta t$$"
   ]
  },
  {
   "cell_type": "markdown",
   "metadata": {
    "slideshow": {
     "slide_type": "fragment"
    }
   },
   "source": [
    "We can combine the last two steps into one line to make our lives easier when we code this later.\n",
    "\n",
    "$$\\vec{x}(t + \\Delta t) = \\vec{x}(t) + \\vec{v}(t) \\Delta t + \\vec{a} \\Delta t^2 \\frac{1}{2}$$"
   ]
  },
  {
   "cell_type": "markdown",
   "metadata": {
    "slideshow": {
     "slide_type": "subslide"
    }
   },
   "source": [
    "After we calculate our positions at $t + \\Delta t$ for all of the bodies, we then want to the acceleration due to the sum of the forces acting on each of the bodies at $t + \\Delta t$."
   ]
  },
  {
   "cell_type": "markdown",
   "metadata": {
    "slideshow": {
     "slide_type": "fragment"
    }
   },
   "source": [
    "This is done using Newton's universal law of gravitation.\n",
    "\n",
    "$$F = -G \\frac{m_1 m_2}{r^2}$$"
   ]
  },
  {
   "cell_type": "markdown",
   "metadata": {
    "slideshow": {
     "slide_type": "fragment"
    }
   },
   "source": [
    "We also know that the force acting on any given body will be the sum of the forces applied by n bodies in the system.\n",
    "\n",
    "$$\\vec{F}_i = \\sum_{j=0}^n -G \\frac{m_i m_j}{|\\vec{r}_{ij}|^3}\\vec{r}_{ij}$$"
   ]
  },
  {
   "cell_type": "markdown",
   "metadata": {
    "slideshow": {
     "slide_type": "fragment"
    }
   },
   "source": [
    "To get this into a form we can use, we can make use of Newton's second law.\n",
    "\n",
    "$$\\vec{F}_i = m_i \\vec{a}_i = \\sum_{j=0}^n -G \\frac{m_i m_j}{|\\vec{r}_{ij}|^3}\\vec{r}_{ij} \\Rightarrow \\boxed{\\vec{a}_i = \\sum_{j=0}^n -G \\frac{m_j}{|\\vec{r}_{ij}|^3}\\vec{r}_{ij}}$$"
   ]
  },
  {
   "cell_type": "markdown",
   "metadata": {
    "slideshow": {
     "slide_type": "subslide"
    }
   },
   "source": [
    "Now that we've calculated both the position and acceleration at $t + \\Delta t$ we just need to calculate the velocity at $t + \\Delta t$.\n",
    "\n",
    "$$\\vec{v}(t + \\Delta t) = \\vec{v}(t + \\Delta t \\frac{1}{2}) + \\vec{a}(t + \\Delta t) \\Delta t \\frac{1}{2}$$"
   ]
  },
  {
   "cell_type": "markdown",
   "metadata": {
    "slideshow": {
     "slide_type": "fragment"
    }
   },
   "source": [
    "Like with the formula for $\\vec{x}$ we can simplify this by plugging in the half-step equation for velocity.\n",
    "\n",
    "$$\\vec{v}(t + \\Delta t) = \\vec{v}(t) + (\\vec{a}(t) + \\vec{a}(t + \\Delta t) \\Delta t \\frac{1}{2}$$"
   ]
  },
  {
   "cell_type": "markdown",
   "metadata": {
    "slideshow": {
     "slide_type": "subslide"
    }
   },
   "source": [
    "With the math and physics sorted out, lets talk about the goals and design considerations for the tool."
   ]
  },
  {
   "cell_type": "markdown",
   "metadata": {
    "pycharm": {
     "name": "#%% md\n"
    },
    "slideshow": {
     "slide_type": "-"
    }
   },
   "source": [
    "![title](final_presentation/design.jpg)"
   ]
  },
  {
   "cell_type": "markdown",
   "metadata": {
    "slideshow": {
     "slide_type": "slide"
    }
   },
   "source": [
    "My original idea for this tool was to allow for a user to input any number of bodies with their corresponding positional, velocities, and masses."
   ]
  },
  {
   "cell_type": "markdown",
   "metadata": {
    "slideshow": {
     "slide_type": "fragment"
    }
   },
   "source": [
    "After some back and forth, I decided to design a Graphical User Interface (GUI) that would act as the \"front-end\" for the simulation."
   ]
  },
  {
   "cell_type": "markdown",
   "metadata": {
    "slideshow": {
     "slide_type": "fragment"
    }
   },
   "source": [
    "To accomplish this, I used a GUI library called Dear PyGui, a Python implementation of a ImGui and ImPlot which are high performance GUI and Plotting tools built for C++."
   ]
  },
  {
   "cell_type": "markdown",
   "metadata": {
    "slideshow": {
     "slide_type": "subslide"
    }
   },
   "source": [
    "This is a first pass of the GUI that allows user to create and edit bodies, represented by dragable dots on a graph. This early version only allowed and accounted for a 2D simulation."
   ]
  },
  {
   "cell_type": "markdown",
   "metadata": {
    "slideshow": {
     "slide_type": "-"
    }
   },
   "source": [
    "![title](final_presentation/gui-1.png)"
   ]
  },
  {
   "cell_type": "markdown",
   "metadata": {
    "slideshow": {
     "slide_type": "subslide"
    }
   },
   "source": [
    "This was a good start, but there was a long way to go! First thing first, was to finish implementing the simulation part of the code, and figure out how to bring everything into the third dimension. "
   ]
  },
  {
   "cell_type": "markdown",
   "metadata": {
    "slideshow": {
     "slide_type": "fragment"
    }
   },
   "source": [
    "With all of this sorted out, the final GUI allows for users to create bodies in 3d space, as well as edit them and change any of the inital conditions. An area specifically for controlling the simulation was also added to the bottom, allowing the user to change the step size (in seconds), the number of steps for the simulation to take, and the frequency in which the graph updates. There is also a progress bar showing the total time that has elapsed in the simulation, and buttons to reset the simulation to the initial conditions."
   ]
  },
  {
   "cell_type": "markdown",
   "metadata": {
    "slideshow": {
     "slide_type": "subslide"
    }
   },
   "source": [
    "![title](final_presentation/gui-2.png)"
   ]
  },
  {
   "cell_type": "markdown",
   "metadata": {
    "slideshow": {
     "slide_type": "slide"
    }
   },
   "source": [
    "## Time for a live demonstration!"
   ]
  }
 ],
 "metadata": {
  "celltoolbar": "Slideshow",
  "kernelspec": {
   "display_name": "Python 3 (ipykernel)",
   "language": "python",
   "name": "python3"
  },
  "language_info": {
   "codemirror_mode": {
    "name": "ipython",
    "version": 3
   },
   "file_extension": ".py",
   "mimetype": "text/x-python",
   "name": "python",
   "nbconvert_exporter": "python",
   "pygments_lexer": "ipython3",
   "version": "3.8.13"
  }
 },
 "nbformat": 4,
 "nbformat_minor": 1
}
